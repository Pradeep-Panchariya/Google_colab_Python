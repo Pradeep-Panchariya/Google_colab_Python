{
  "nbformat": 4,
  "nbformat_minor": 0,
  "metadata": {
    "colab": {
      "name": "sqllite_python.ipynb",
      "provenance": [],
      "collapsed_sections": [],
      "authorship_tag": "ABX9TyPWQSN/Q7zoLoM/m1ewunwn",
      "include_colab_link": true
    },
    "kernelspec": {
      "name": "python3",
      "display_name": "Python 3"
    },
    "language_info": {
      "name": "python"
    }
  },
  "cells": [
    {
      "cell_type": "markdown",
      "metadata": {
        "id": "view-in-github",
        "colab_type": "text"
      },
      "source": [
        "<a href=\"https://colab.research.google.com/github/Pradeep-Panchariya/Google_colab_Python/blob/main/sqllite_python.ipynb\" target=\"_parent\"><img src=\"https://colab.research.google.com/assets/colab-badge.svg\" alt=\"Open In Colab\"/></a>"
      ]
    },
    {
      "cell_type": "code",
      "source": [
        "!sudo add-apt-repository -y ppa:dqlite/stable\n",
        "!sudo apt update\n",
        "!sudo apt-get install -y sqlite3"
      ],
      "metadata": {
        "colab": {
          "base_uri": "https://localhost:8080/"
        },
        "id": "A2DjF65RPEJ-",
        "outputId": "588d00a5-fd8d-4b03-a8ae-04704d6e4cb9"
      },
      "execution_count": null,
      "outputs": [
        {
          "output_type": "stream",
          "name": "stdout",
          "text": [
            "Cannot add PPA: 'ppa:~dqlite/ubuntu/stable'.\n",
            "The team named '~dqlite' has no PPA named 'ubuntu/stable'\n",
            "Please choose from the following available PPAs:\n",
            " * 'dev':  Development builds\n",
            "Ign:1 https://developer.download.nvidia.com/compute/cuda/repos/ubuntu1804/x86_64  InRelease\n",
            "Ign:2 https://developer.download.nvidia.com/compute/machine-learning/repos/ubuntu1804/x86_64  InRelease\n",
            "Get:3 https://developer.download.nvidia.com/compute/cuda/repos/ubuntu1804/x86_64  Release [696 B]\n",
            "Hit:4 https://developer.download.nvidia.com/compute/machine-learning/repos/ubuntu1804/x86_64  Release\n",
            "Get:5 https://cloud.r-project.org/bin/linux/ubuntu bionic-cran40/ InRelease [3,626 B]\n",
            "Get:6 https://developer.download.nvidia.com/compute/cuda/repos/ubuntu1804/x86_64  Release.gpg [836 B]\n",
            "Hit:8 http://archive.ubuntu.com/ubuntu bionic InRelease\n",
            "Get:9 http://security.ubuntu.com/ubuntu bionic-security InRelease [88.7 kB]\n",
            "Get:10 https://cloud.r-project.org/bin/linux/ubuntu bionic-cran40/ Packages [80.8 kB]\n",
            "Get:11 http://archive.ubuntu.com/ubuntu bionic-updates InRelease [88.7 kB]\n",
            "Get:12 http://ppa.launchpad.net/c2d4u.team/c2d4u4.0+/ubuntu bionic InRelease [15.9 kB]\n",
            "Get:13 https://developer.download.nvidia.com/compute/cuda/repos/ubuntu1804/x86_64  Packages [950 kB]\n",
            "Get:14 http://archive.ubuntu.com/ubuntu bionic-backports InRelease [74.6 kB]\n",
            "Get:15 http://security.ubuntu.com/ubuntu bionic-security/main amd64 Packages [2,693 kB]\n",
            "Hit:16 http://ppa.launchpad.net/cran/libgit2/ubuntu bionic InRelease\n",
            "Get:17 http://archive.ubuntu.com/ubuntu bionic-updates/restricted amd64 Packages [918 kB]\n",
            "Get:18 http://ppa.launchpad.net/deadsnakes/ppa/ubuntu bionic InRelease [15.9 kB]\n",
            "Get:19 http://archive.ubuntu.com/ubuntu bionic-updates/main amd64 Packages [3,132 kB]\n",
            "Get:20 http://security.ubuntu.com/ubuntu bionic-security/universe amd64 Packages [1,486 kB]\n",
            "Get:21 http://archive.ubuntu.com/ubuntu bionic-updates/multiverse amd64 Packages [29.8 kB]\n",
            "Get:22 http://security.ubuntu.com/ubuntu bionic-security/restricted amd64 Packages [884 kB]\n",
            "Get:23 http://archive.ubuntu.com/ubuntu bionic-updates/universe amd64 Packages [2,264 kB]\n",
            "Get:24 http://archive.ubuntu.com/ubuntu bionic-backports/main amd64 Packages [12.2 kB]\n",
            "Get:25 http://archive.ubuntu.com/ubuntu bionic-backports/universe amd64 Packages [12.9 kB]\n",
            "Get:26 http://ppa.launchpad.net/graphics-drivers/ppa/ubuntu bionic InRelease [21.3 kB]\n",
            "Get:27 http://ppa.launchpad.net/c2d4u.team/c2d4u4.0+/ubuntu bionic/main Sources [1,830 kB]\n",
            "Get:28 http://ppa.launchpad.net/c2d4u.team/c2d4u4.0+/ubuntu bionic/main amd64 Packages [937 kB]\n",
            "Get:29 http://ppa.launchpad.net/deadsnakes/ppa/ubuntu bionic/main amd64 Packages [45.3 kB]\n",
            "Get:30 http://ppa.launchpad.net/graphics-drivers/ppa/ubuntu bionic/main amd64 Packages [44.3 kB]\n",
            "Fetched 15.6 MB in 5s (3,049 kB/s)\n",
            "Reading package lists... Done\n",
            "Building dependency tree       \n",
            "Reading state information... Done\n",
            "82 packages can be upgraded. Run 'apt list --upgradable' to see them.\n",
            "Reading package lists... Done\n",
            "Building dependency tree       \n",
            "Reading state information... Done\n",
            "Suggested packages:\n",
            "  sqlite3-doc\n",
            "The following NEW packages will be installed:\n",
            "  sqlite3\n",
            "0 upgraded, 1 newly installed, 0 to remove and 82 not upgraded.\n",
            "Need to get 752 kB of archives.\n",
            "After this operation, 2,482 kB of additional disk space will be used.\n",
            "Get:1 http://archive.ubuntu.com/ubuntu bionic-updates/main amd64 sqlite3 amd64 3.22.0-1ubuntu0.4 [752 kB]\n",
            "Fetched 752 kB in 1s (1,300 kB/s)\n",
            "debconf: unable to initialize frontend: Dialog\n",
            "debconf: (No usable dialog-like program is installed, so the dialog based frontend cannot be used. at /usr/share/perl5/Debconf/FrontEnd/Dialog.pm line 76, <> line 1.)\n",
            "debconf: falling back to frontend: Readline\n",
            "debconf: unable to initialize frontend: Readline\n",
            "debconf: (This frontend requires a controlling tty.)\n",
            "debconf: falling back to frontend: Teletype\n",
            "dpkg-preconfigure: unable to re-open stdin: \n",
            "Selecting previously unselected package sqlite3.\n",
            "(Reading database ... 156220 files and directories currently installed.)\n",
            "Preparing to unpack .../sqlite3_3.22.0-1ubuntu0.4_amd64.deb ...\n",
            "Unpacking sqlite3 (3.22.0-1ubuntu0.4) ...\n",
            "Setting up sqlite3 (3.22.0-1ubuntu0.4) ...\n",
            "Processing triggers for man-db (2.8.3-2ubuntu0.1) ...\n"
          ]
        }
      ]
    },
    {
      "cell_type": "code",
      "source": [
        "import sqlite3"
      ],
      "metadata": {
        "id": "o5pH1UAgPOwi"
      },
      "execution_count": null,
      "outputs": []
    },
    {
      "cell_type": "code",
      "source": [
        "con = sqlite3.connect('TODO.db')"
      ],
      "metadata": {
        "id": "BRhQfiq2P27d"
      },
      "execution_count": null,
      "outputs": []
    },
    {
      "cell_type": "code",
      "source": [
        "c = con.cursor()"
      ],
      "metadata": {
        "id": "7xttnmGsSBBN"
      },
      "execution_count": null,
      "outputs": []
    },
    {
      "cell_type": "code",
      "source": [
        "c.execute('''\n",
        "CREATE TABLE IF NOT EXISTS Todo (\n",
        "  id Integer PRIMARY KEY,\n",
        "  name TEXT NOT NULL,\n",
        "  priority Integer NOT NULL\n",
        ");'''\n",
        ")"
      ],
      "metadata": {
        "colab": {
          "base_uri": "https://localhost:8080/"
        },
        "id": "FB2vLYu3SHmn",
        "outputId": "9c0eaa89-dade-4ecd-8077-73686af70d40"
      },
      "execution_count": null,
      "outputs": [
        {
          "output_type": "execute_result",
          "data": {
            "text/plain": [
              "<sqlite3.Cursor at 0x7f1fcaf13ab0>"
            ]
          },
          "metadata": {},
          "execution_count": 28
        }
      ]
    },
    {
      "cell_type": "code",
      "source": [
        "c.execute(\n",
        "    'INSERT INTO Todo(name, priority) values(?,?)', ('My task',3))"
      ],
      "metadata": {
        "colab": {
          "base_uri": "https://localhost:8080/"
        },
        "id": "VR6dKZKPSbRs",
        "outputId": "b7be29dc-76e9-45f1-df3c-b0a07f5da8a1"
      },
      "execution_count": null,
      "outputs": [
        {
          "output_type": "execute_result",
          "data": {
            "text/plain": [
              "<sqlite3.Cursor at 0x7f1fcaf13ab0>"
            ]
          },
          "metadata": {},
          "execution_count": 33
        }
      ]
    },
    {
      "cell_type": "code",
      "source": [
        "c.execute(\n",
        "    'insert into Todo values(2, \"Singing\",4)'\n",
        ")"
      ],
      "metadata": {
        "colab": {
          "base_uri": "https://localhost:8080/"
        },
        "id": "P9XPoK4MTBSo",
        "outputId": "df89c47a-57f0-468e-c5c5-4767c6b603e1"
      },
      "execution_count": null,
      "outputs": [
        {
          "output_type": "execute_result",
          "data": {
            "text/plain": [
              "<sqlite3.Cursor at 0x7f1fcaf13ab0>"
            ]
          },
          "metadata": {},
          "execution_count": 41
        }
      ]
    },
    {
      "cell_type": "code",
      "source": [
        "con.commit()"
      ],
      "metadata": {
        "id": "aHBQq8tNUhRy"
      },
      "execution_count": null,
      "outputs": []
    },
    {
      "cell_type": "code",
      "source": [
        "my_task = [\n",
        " ('Studying',5),\n",
        " ('Thinking',7),\n",
        " ('Writing',1)\n",
        "]"
      ],
      "metadata": {
        "id": "zE9tvORXVMLs"
      },
      "execution_count": null,
      "outputs": []
    },
    {
      "cell_type": "code",
      "source": [
        "c.executemany(\n",
        "    'INSERT INTO Todo(name, priority) Values(?,?)', my_task\n",
        ")"
      ],
      "metadata": {
        "colab": {
          "base_uri": "https://localhost:8080/"
        },
        "id": "uT3xktpwWhkV",
        "outputId": "986c682f-c1cc-4f74-c9c5-feaa25cf4bcc"
      },
      "execution_count": null,
      "outputs": [
        {
          "output_type": "execute_result",
          "data": {
            "text/plain": [
              "<sqlite3.Cursor at 0x7f1fcaf13ab0>"
            ]
          },
          "metadata": {},
          "execution_count": 49
        }
      ]
    },
    {
      "cell_type": "code",
      "source": [
        "con.commit()"
      ],
      "metadata": {
        "id": "mmN_VsOzW8Hp"
      },
      "execution_count": null,
      "outputs": []
    },
    {
      "cell_type": "code",
      "source": [
        ""
      ],
      "metadata": {
        "id": "omiOo4ZLXgav"
      },
      "execution_count": null,
      "outputs": []
    },
    {
      "cell_type": "markdown",
      "source": [
        "OO Programming"
      ],
      "metadata": {
        "id": "Sm1MuMn2qpdY"
      }
    },
    {
      "cell_type": "code",
      "source": [
        "import sqlite3 as sql\n",
        "import sys\n",
        "class MyTask:\n",
        "  def __init__(self):\n",
        "    self.connection = sql.connect('Task.db')\n",
        "    self.c = self.connection.cursor()\n",
        "    self.create_table()\n",
        "  \n",
        "  def create_table(self):\n",
        "    self.c.execute('''\n",
        "                   CREATE TABLE IF NOT EXISTS Task (\n",
        "                     ID INTEGER PRIMARY KEY,\n",
        "                     Name TEXT NOT NULL,\n",
        "                     PRIORITY INTEGER NOT NULL\n",
        "                   );'''\n",
        "                   )\n",
        "\n",
        "  def add_task(self):\n",
        "      while True:\n",
        "        print(\"Type QUIT to exit the loop\")\n",
        "        task_name = input(\"Enter the name of the TASK:\")\n",
        "        if task_name.lower()=='quit':\n",
        "          break\n",
        "        try:\n",
        "          priority_of_task = int(input(\"Enter of priority of the task\"))\n",
        "        except ValueError:\n",
        "          print(\"Please enter priority number value into numberic\")\n",
        "          sys.exit(1)\n",
        "        \n",
        "        self.c.execute(\n",
        "            'INSERT INTO Task (name, priority) Values(?,?)', (task_name,priority_of_task)\n",
        "        )\n",
        "      self.connection.commit()\n",
        "      self.connection.close()\n",
        "\n",
        "  def read_data(self):\n",
        "    for row in self.c.execute('SELECT * FROM Task'):\n",
        "      print(row)\n",
        "    '''This below also work same as above but it store all the rows in a memory at a time so it could cause an memory error (less efficient)\n",
        "    if no data avaialbe then return empty list\n",
        "      rows = c.fetchall()\n",
        "      for row in rows:\n",
        "        print(row)\n",
        "    '''\n",
        "\n",
        "\n",
        "t1 = MyTask()\n",
        "# t1.add_task()\n",
        "t1.read_data()\n",
        "  "
      ],
      "metadata": {
        "colab": {
          "base_uri": "https://localhost:8080/"
        },
        "id": "4gfoKc9Rqq7m",
        "outputId": "4df587b3-4cf4-4ea8-847c-f7b8c59ced7b"
      },
      "execution_count": null,
      "outputs": [
        {
          "output_type": "stream",
          "name": "stdout",
          "text": [
            "(1, 'Singing', 1)\n",
            "(2, 'jogging', 2)\n",
            "(3, 'thinking', 4)\n",
            "(4, 'making', 7)\n"
          ]
        }
      ]
    },
    {
      "cell_type": "code",
      "source": [
        "import sqlite3\n",
        "import sys\n",
        "\n",
        "class MyTask:\n",
        "    \n",
        "    def __init__(self):\n",
        "        self.conn = sqlite3.connect('task.db')\n",
        "        self.c = self.conn.cursor()\n",
        "        self.create_table()\n",
        "        \n",
        "    def create_table(self):\n",
        "        self.c.execute('''\n",
        "                    CREATE TABLE IF NOT EXISTS Task (\n",
        "                    id INTEGER PRIMARY KEY,\n",
        "                    name TEXT NOT NULL,\n",
        "                    priority INTEGER NOT NULL\n",
        "                    );'''\n",
        "                        )\n",
        "                        \n",
        "    def add_task(self):\n",
        "        while True:\n",
        "            print('TYPE \"quit\" to exit from the loop')\n",
        "            name = input(\"enter the task name: \")\n",
        "            if name.lower() == 'quit':\n",
        "              break\n",
        "            if self.check_duplicate_task(name):\n",
        "                print('Task name is already existed in the db')\n",
        "                sys.exit(1)\n",
        "            if name == '':\n",
        "                print(\"Please don't leave the task name empty\")\n",
        "                sys.exit(1)\n",
        "            try :\n",
        "                priority_task = int(input('Enter the priority'))\n",
        "                if priority_task < 1:\n",
        "                    raise Exception(\"Priority of the task can not be less than 1\")\n",
        "                    sys.exit(1)\n",
        "            except ValueError:\n",
        "                print('Plese enter the numberic value for the priority')\n",
        "                sys.exit(1)\n",
        "            self.c.execute(\n",
        "                'INSERT INTO Task(name,priority) Values(?,?)', (name,priority_task)\n",
        "                )\n",
        "            self.conn.commit()\n",
        "       \n",
        "     \n",
        "    def check_duplicate_task(self, task_name):\n",
        "        for row in self.c.execute('select * from Task'):\n",
        "            if task_name==row[1]:\n",
        "                return True\n",
        "        return False\n",
        "        \n",
        "    def find_task(self, task_name):\n",
        "\n",
        "        for task in self.c.execute('SELECT name from Task'):\n",
        "            if task[0].lower()==task_name.lower():\n",
        "                return \"Found\"\n",
        "        return \"Not Found\"\n",
        "        \n",
        "    def show_tasks(self):\n",
        "        for row in self.c.execute('SELECT * from Task'):\n",
        "            print(row)\n",
        "            \n",
        "            \n",
        "t1 = MyTask()\n",
        "t1.add_task()\n",
        "print(t1.find_task('swimming'))\n",
        "t1.show_tasks()\n",
        "t1.conn.close()"
      ],
      "metadata": {
        "colab": {
          "base_uri": "https://localhost:8080/",
          "height": 209
        },
        "id": "VQ_2gA2mtdPE",
        "outputId": "a16078b8-893e-442b-da7d-b7037ff142d8"
      },
      "execution_count": null,
      "outputs": [
        {
          "output_type": "stream",
          "name": "stdout",
          "text": [
            "TYPE \"quit\" to exit from the loop\n",
            "enter the task name: \n",
            "Please don't leave the task name empty\n"
          ]
        },
        {
          "output_type": "error",
          "ename": "SystemExit",
          "evalue": "ignored",
          "traceback": [
            "An exception has occurred, use %tb to see the full traceback.\n",
            "\u001b[0;31mSystemExit\u001b[0m\u001b[0;31m:\u001b[0m 1\n"
          ]
        },
        {
          "output_type": "stream",
          "name": "stderr",
          "text": [
            "/usr/local/lib/python3.7/dist-packages/IPython/core/interactiveshell.py:2890: UserWarning: To exit: use 'exit', 'quit', or Ctrl-D.\n",
            "  warn(\"To exit: use 'exit', 'quit', or Ctrl-D.\", stacklevel=1)\n"
          ]
        }
      ]
    },
    {
      "cell_type": "code",
      "source": [
        "\n",
        "import sqlite3, sys\n",
        "class MyTask:\n",
        "    \n",
        "    def __init__(self):\n",
        "        self.conn = sqlite3.connect('mytask.db')\n",
        "        self.c = self.conn.cursor()\n",
        "        self.create_table()\n",
        "        \n",
        "    def create_table(self):\n",
        "        self.c.execute('''\n",
        "                       CREATE TABLE IF NOT EXISTS TASK (\n",
        "                       id INTEGER PRIMARY KEY,\n",
        "                       name TEXT NOT NULL,\n",
        "                       priority INTEGER NOT NULL\n",
        "                       );'''\n",
        "                       )\n",
        "                    \n",
        "    def add_task(self):\n",
        "        task_name = input(\"ENTER TASK NAME: \")\n",
        "        priority_ = int(input(\"ENTER THE PRIORITY FOR THE TASK: \"))\n",
        "        self.c.execute(\n",
        "            ' INSERT INTO TASK(name, priority) values(?,?)', (task_name,priority_))\n",
        "        self.conn.commit()\n",
        "        \n",
        "    def show_task(self):\n",
        "        for row in self.c.execute('select * from TASK'):\n",
        "            print(row)\n",
        "        \n",
        "    def change_priority(self):\n",
        "        old_pid = int(input('enter old priority id: '))\n",
        "        new_pid = int(input('enter the new priority id: '))\n",
        "        for pid in self.c.execute('select priority from TASK'):\n",
        "            if pid[0]==old_pid:\n",
        "                self.c.execute(f'''UPDATE TASK\n",
        "                               set priority={new_pid}\n",
        "                               where priority={old_pid}\n",
        "                               ''')\n",
        "                self.conn.commit()\n",
        "                break\n",
        "        return \"priority is not find in the table\"\n",
        "    \n",
        "    def delete_task(self):\n",
        "        task_name = input(\"Enter the name of the task for delete: \")\n",
        "        for task in self.c.execute('select name from TASK'):\n",
        "            if task[0]==task_name:\n",
        "                self.c.execute(f'''DELETE FROM TASK\n",
        "                                WHERE name={task_name}\n",
        "                                ''')\n",
        "                self.conn.commit()\n",
        "                break\n",
        "        return print(\"TASK NAME IS NOT FOUND\")\n",
        "        \n",
        "    \n",
        "    def menu(self):\n",
        "        while True:\n",
        "            print(''' \n",
        "                  1. Show Tasks\n",
        "                  2. Add Task\n",
        "                  3. Change Priority\n",
        "                  4. Delete Task\n",
        "                  5. Exit\n",
        "                  ''')\n",
        "            inp = int(input(\"Enter the number\"))\n",
        "            if inp==1:\n",
        "                self.show_task()\n",
        "            elif inp==2:\n",
        "                self.add_task()\n",
        "            elif inp==3:\n",
        "                self.change_priority()\n",
        "            elif inp==4:\n",
        "                self.delete_task()\n",
        "            elif inp==5:\n",
        "                break\n",
        "            \n",
        "t = MyTask()\n",
        "t.menu()\n",
        "t.conn.close()"
      ],
      "metadata": {
        "colab": {
          "base_uri": "https://localhost:8080/",
          "height": 564
        },
        "id": "lwRPLxYkPf0D",
        "outputId": "55e9d670-04b5-4251-9881-b6b3f755cfcb"
      },
      "execution_count": null,
      "outputs": [
        {
          "name": "stdout",
          "output_type": "stream",
          "text": [
            " \n",
            "                  1. Show Tasks\n",
            "                  2. Add Task\n",
            "                  3. Change Priority\n",
            "                  4. Delete Task\n",
            "                  5. Exit\n",
            "                  \n",
            "Enter the number2\n",
            "ENTER TASK NAME: Writing\n",
            "ENTER THE PRIORITY FOR THE TASK: 6\n"
          ]
        },
        {
          "output_type": "error",
          "ename": "OperationalError",
          "evalue": "ignored",
          "traceback": [
            "\u001b[0;31m---------------------------------------------------------------------------\u001b[0m",
            "\u001b[0;31mOperationalError\u001b[0m                          Traceback (most recent call last)",
            "\u001b[0;32m<ipython-input-24-f46baed63476>\u001b[0m in \u001b[0;36m<module>\u001b[0;34m()\u001b[0m\n\u001b[1;32m     75\u001b[0m \u001b[0;34m\u001b[0m\u001b[0m\n\u001b[1;32m     76\u001b[0m \u001b[0mt\u001b[0m \u001b[0;34m=\u001b[0m \u001b[0mMyTask\u001b[0m\u001b[0;34m(\u001b[0m\u001b[0;34m)\u001b[0m\u001b[0;34m\u001b[0m\u001b[0;34m\u001b[0m\u001b[0m\n\u001b[0;32m---> 77\u001b[0;31m \u001b[0mt\u001b[0m\u001b[0;34m.\u001b[0m\u001b[0mmenu\u001b[0m\u001b[0;34m(\u001b[0m\u001b[0;34m)\u001b[0m\u001b[0;34m\u001b[0m\u001b[0;34m\u001b[0m\u001b[0m\n\u001b[0m\u001b[1;32m     78\u001b[0m \u001b[0mt\u001b[0m\u001b[0;34m.\u001b[0m\u001b[0mconn\u001b[0m\u001b[0;34m.\u001b[0m\u001b[0mclose\u001b[0m\u001b[0;34m(\u001b[0m\u001b[0;34m)\u001b[0m\u001b[0;34m\u001b[0m\u001b[0;34m\u001b[0m\u001b[0m\n",
            "\u001b[0;32m<ipython-input-24-f46baed63476>\u001b[0m in \u001b[0;36mmenu\u001b[0;34m(self)\u001b[0m\n\u001b[1;32m     66\u001b[0m                 \u001b[0mself\u001b[0m\u001b[0;34m.\u001b[0m\u001b[0mshow_task\u001b[0m\u001b[0;34m(\u001b[0m\u001b[0;34m)\u001b[0m\u001b[0;34m\u001b[0m\u001b[0;34m\u001b[0m\u001b[0m\n\u001b[1;32m     67\u001b[0m             \u001b[0;32melif\u001b[0m \u001b[0minp\u001b[0m\u001b[0;34m==\u001b[0m\u001b[0;36m2\u001b[0m\u001b[0;34m:\u001b[0m\u001b[0;34m\u001b[0m\u001b[0;34m\u001b[0m\u001b[0m\n\u001b[0;32m---> 68\u001b[0;31m                 \u001b[0mself\u001b[0m\u001b[0;34m.\u001b[0m\u001b[0madd_task\u001b[0m\u001b[0;34m(\u001b[0m\u001b[0;34m)\u001b[0m\u001b[0;34m\u001b[0m\u001b[0;34m\u001b[0m\u001b[0m\n\u001b[0m\u001b[1;32m     69\u001b[0m             \u001b[0;32melif\u001b[0m \u001b[0minp\u001b[0m\u001b[0;34m==\u001b[0m\u001b[0;36m3\u001b[0m\u001b[0;34m:\u001b[0m\u001b[0;34m\u001b[0m\u001b[0;34m\u001b[0m\u001b[0m\n\u001b[1;32m     70\u001b[0m                 \u001b[0mself\u001b[0m\u001b[0;34m.\u001b[0m\u001b[0mchange_priority\u001b[0m\u001b[0;34m(\u001b[0m\u001b[0;34m)\u001b[0m\u001b[0;34m\u001b[0m\u001b[0;34m\u001b[0m\u001b[0m\n",
            "\u001b[0;32m<ipython-input-24-f46baed63476>\u001b[0m in \u001b[0;36madd_task\u001b[0;34m(self)\u001b[0m\n\u001b[1;32m     22\u001b[0m         self.c.execute(\n\u001b[1;32m     23\u001b[0m             ' INSERT INTO TASK(name, priority) values(?,?)', (task_name,priority_))\n\u001b[0;32m---> 24\u001b[0;31m         \u001b[0mself\u001b[0m\u001b[0;34m.\u001b[0m\u001b[0mconn\u001b[0m\u001b[0;34m.\u001b[0m\u001b[0mcommit\u001b[0m\u001b[0;34m(\u001b[0m\u001b[0;34m)\u001b[0m\u001b[0;34m\u001b[0m\u001b[0;34m\u001b[0m\u001b[0m\n\u001b[0m\u001b[1;32m     25\u001b[0m \u001b[0;34m\u001b[0m\u001b[0m\n\u001b[1;32m     26\u001b[0m     \u001b[0;32mdef\u001b[0m \u001b[0mshow_task\u001b[0m\u001b[0;34m(\u001b[0m\u001b[0mself\u001b[0m\u001b[0;34m)\u001b[0m\u001b[0;34m:\u001b[0m\u001b[0;34m\u001b[0m\u001b[0;34m\u001b[0m\u001b[0m\n",
            "\u001b[0;31mOperationalError\u001b[0m: database is locked"
          ]
        }
      ]
    },
    {
      "cell_type": "code",
      "source": [
        ""
      ],
      "metadata": {
        "id": "dbAjmo9xnTVs"
      },
      "execution_count": null,
      "outputs": []
    }
  ]
}